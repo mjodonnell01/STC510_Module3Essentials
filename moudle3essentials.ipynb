{
 "cells": [
  {
   "cell_type": "markdown",
   "id": "d223d468-6e80-4364-a6a2-79b10f0f7d36",
   "metadata": {},
   "source": [
    "STC 510 - Module 3 Essentials Badge Assignment\n",
    "\n",
    "Michael O'Donnell - 01/26/2024\n",
    "\n",
    "For this assignment, I will be drawing on multiple sources of data to compare to the crime data that we looked at for our last assignment. I will be loading in that data once again while also loading in the data I decide to compare it to, to see if there are any correlations among the data. "
   ]
  },
  {
   "cell_type": "markdown",
   "id": "7a3c976f-d70f-4679-92c0-69e5207a7169",
   "metadata": {},
   "source": [
    "To help find categories of data that could correlate with our crime data set, I used this Wikipedia article to help give me ideas of what datasets I could try to find for comparison. \n",
    "\n",
    "https://en.wikipedia.org/wiki/Correlates_of_crime"
   ]
  },
  {
   "cell_type": "markdown",
   "id": "1044be07-2c84-40f9-9954-d3cc7c834473",
   "metadata": {},
   "source": [
    "To start off the comparison, I found this data set of Pheonix area housing prices for 2021\n",
    "\n",
    "https://www.kaggle.com/datasets/antoniong203/arizona-houses-2021\n",
    "\n",
    "This is not the best comparison becuase the dates do not match and the data set is not very large. But housing prices in this case can be a proxy for socioeconomic status and allow me to compare the median home price per zip versus the median amount of crimes per zip to see if there is a correlation between the two. "
   ]
  },
  {
   "cell_type": "markdown",
   "id": "427efe6a-ea30-42b5-9d4a-1257316e7821",
   "metadata": {},
   "source": [
    "To begin with the comparison, I first need to import the python modules and the datasets I need. "
   ]
  },
  {
   "cell_type": "code",
   "execution_count": 1,
   "id": "dbcb3a4e-3289-467d-8a9e-de771c19062c",
   "metadata": {},
   "outputs": [],
   "source": [
    "#Import statements \n",
    "import numpy as np\n",
    "import matplotlib.pyplot as plt\n",
    "import pandas as pd"
   ]
  },
  {
   "cell_type": "code",
   "execution_count": 2,
   "id": "2578c9b6-e291-4a86-b13e-75a44e4bba98",
   "metadata": {},
   "outputs": [],
   "source": [
    "#Importing the crime dataset \n",
    "#I copied the declaration from my module 3 basics assignment\n",
    "crime_df = pd.read_csv('crimestats.csv',on_bad_lines='skip',engine='python')"
   ]
  },
  {
   "cell_type": "code",
   "execution_count": 3,
   "id": "aba5ae05-7fe2-4607-9425-0ed170fe1fa1",
   "metadata": {},
   "outputs": [],
   "source": [
    "#Drop rows with empty data\n",
    "crime_df.dropna(inplace=True)"
   ]
  },
  {
   "cell_type": "code",
   "execution_count": 4,
   "id": "f2c98b21-4c31-497d-a4fd-514ae9ff9166",
   "metadata": {},
   "outputs": [],
   "source": [
    "#importing housing prices dataset from a CSV\n",
    "#I am going to use the same methods I used for the crime datset incase there is bad data\n",
    "house_prices_df = pd.read_csv('AZhousingData.csv',on_bad_lines='skip',engine='python')"
   ]
  },
  {
   "cell_type": "code",
   "execution_count": 5,
   "id": "7c74be40-ede5-4ce4-9a6b-12ec9904feec",
   "metadata": {},
   "outputs": [],
   "source": [
    "#Dropping rows with empty data\n",
    "house_prices_df.dropna(inplace=True)"
   ]
  },
  {
   "cell_type": "markdown",
   "id": "3fa04063-368e-46f6-b10e-4914f41f5627",
   "metadata": {},
   "source": [
    "Now that the datasets have been imported, I can start gathering and preparing the data I need for comparison. For the crime dataset, I want to find the median number of crimes per zip and for the house prices I will use each price that is listed for the zipcode to represent the zipcode overall (we will later see this is biased and problematic). I was debating on pulling the median crimes per zip for one year only, but I think it could be useful to include the data for all the years each zip has to give a fuller picture of the number of crimes that occur per zip."
   ]
  },
  {
   "cell_type": "code",
   "execution_count": 87,
   "id": "4f0e3a28-bc86-4745-b5d2-1ee167247e9d",
   "metadata": {},
   "outputs": [],
   "source": [
    "#Using the groupby method so I can anaylze the zipcode and crimes\n",
    "crime_zip = crime_df.groupby('ZIP')"
   ]
  },
  {
   "cell_type": "code",
   "execution_count": 88,
   "id": "931c0de1-f736-4680-a279-c538b4778292",
   "metadata": {},
   "outputs": [
    {
     "data": {
      "text/plain": [
       "ZIP      UCR CRIME CATEGORY \n",
       "85003.0  LARCENY-THEFT          537\n",
       "         BURGLARY               145\n",
       "         MOTOR VEHICLE THEFT    105\n",
       "         DRUG OFFENSE            78\n",
       "         AGGRAVATED ASSAULT      58\n",
       "                               ... \n",
       "85392.0  AGGRAVATED ASSAULT       1\n",
       "85395.0  AGGRAVATED ASSAULT       1\n",
       "85396.0  BURGLARY                 1\n",
       "         LARCENY-THEFT            1\n",
       "         MOTOR VEHICLE THEFT      1\n",
       "Name: count, Length: 523, dtype: int64"
      ]
     },
     "execution_count": 88,
     "metadata": {},
     "output_type": "execute_result"
    }
   ],
   "source": [
    "#comparing the crimes to the zip code groupby dataframe\n",
    "crime_zip['UCR CRIME CATEGORY'].value_counts()"
   ]
  },
  {
   "cell_type": "code",
   "execution_count": 89,
   "id": "8a00bc0f-c9c3-4784-90a8-e2be8c4a90bf",
   "metadata": {},
   "outputs": [],
   "source": [
    "#Making a new dataframe with the crime counts per crime per zip for further grouping. \n",
    "crime_count_df = pd.DataFrame(crime_zip['UCR CRIME CATEGORY'].value_counts())"
   ]
  },
  {
   "cell_type": "code",
   "execution_count": 90,
   "id": "c228a2af-4306-4ad4-9643-0152d9ef6793",
   "metadata": {},
   "outputs": [
    {
     "data": {
      "text/html": [
       "<div>\n",
       "<style scoped>\n",
       "    .dataframe tbody tr th:only-of-type {\n",
       "        vertical-align: middle;\n",
       "    }\n",
       "\n",
       "    .dataframe tbody tr th {\n",
       "        vertical-align: top;\n",
       "    }\n",
       "\n",
       "    .dataframe thead th {\n",
       "        text-align: right;\n",
       "    }\n",
       "</style>\n",
       "<table border=\"1\" class=\"dataframe\">\n",
       "  <thead>\n",
       "    <tr style=\"text-align: right;\">\n",
       "      <th></th>\n",
       "      <th></th>\n",
       "      <th>count</th>\n",
       "    </tr>\n",
       "    <tr>\n",
       "      <th>ZIP</th>\n",
       "      <th>UCR CRIME CATEGORY</th>\n",
       "      <th></th>\n",
       "    </tr>\n",
       "  </thead>\n",
       "  <tbody>\n",
       "    <tr>\n",
       "      <th rowspan=\"5\" valign=\"top\">85003.0</th>\n",
       "      <th>LARCENY-THEFT</th>\n",
       "      <td>537</td>\n",
       "    </tr>\n",
       "    <tr>\n",
       "      <th>BURGLARY</th>\n",
       "      <td>145</td>\n",
       "    </tr>\n",
       "    <tr>\n",
       "      <th>MOTOR VEHICLE THEFT</th>\n",
       "      <td>105</td>\n",
       "    </tr>\n",
       "    <tr>\n",
       "      <th>DRUG OFFENSE</th>\n",
       "      <td>78</td>\n",
       "    </tr>\n",
       "    <tr>\n",
       "      <th>AGGRAVATED ASSAULT</th>\n",
       "      <td>58</td>\n",
       "    </tr>\n",
       "    <tr>\n",
       "      <th>...</th>\n",
       "      <th>...</th>\n",
       "      <td>...</td>\n",
       "    </tr>\n",
       "    <tr>\n",
       "      <th>85392.0</th>\n",
       "      <th>AGGRAVATED ASSAULT</th>\n",
       "      <td>1</td>\n",
       "    </tr>\n",
       "    <tr>\n",
       "      <th>85395.0</th>\n",
       "      <th>AGGRAVATED ASSAULT</th>\n",
       "      <td>1</td>\n",
       "    </tr>\n",
       "    <tr>\n",
       "      <th rowspan=\"3\" valign=\"top\">85396.0</th>\n",
       "      <th>BURGLARY</th>\n",
       "      <td>1</td>\n",
       "    </tr>\n",
       "    <tr>\n",
       "      <th>LARCENY-THEFT</th>\n",
       "      <td>1</td>\n",
       "    </tr>\n",
       "    <tr>\n",
       "      <th>MOTOR VEHICLE THEFT</th>\n",
       "      <td>1</td>\n",
       "    </tr>\n",
       "  </tbody>\n",
       "</table>\n",
       "<p>523 rows × 1 columns</p>\n",
       "</div>"
      ],
      "text/plain": [
       "                             count\n",
       "ZIP     UCR CRIME CATEGORY        \n",
       "85003.0 LARCENY-THEFT          537\n",
       "        BURGLARY               145\n",
       "        MOTOR VEHICLE THEFT    105\n",
       "        DRUG OFFENSE            78\n",
       "        AGGRAVATED ASSAULT      58\n",
       "...                            ...\n",
       "85392.0 AGGRAVATED ASSAULT       1\n",
       "85395.0 AGGRAVATED ASSAULT       1\n",
       "85396.0 BURGLARY                 1\n",
       "        LARCENY-THEFT            1\n",
       "        MOTOR VEHICLE THEFT      1\n",
       "\n",
       "[523 rows x 1 columns]"
      ]
     },
     "execution_count": 90,
     "metadata": {},
     "output_type": "execute_result"
    }
   ],
   "source": [
    "#Displing the new dataframe\n",
    "crime_count_df"
   ]
  },
  {
   "cell_type": "code",
   "execution_count": 91,
   "id": "8bb5a684-e644-4d83-9aec-488ad414280e",
   "metadata": {},
   "outputs": [],
   "source": [
    "#making a new groupby datframe so I can get the median number of all crimes per zip\n",
    "total_crime = crime_count_df.groupby('ZIP').median()"
   ]
  },
  {
   "cell_type": "code",
   "execution_count": 92,
   "id": "e86110e9-788e-4b10-924f-c0872bfa128e",
   "metadata": {},
   "outputs": [
    {
     "data": {
      "text/html": [
       "<div>\n",
       "<style scoped>\n",
       "    .dataframe tbody tr th:only-of-type {\n",
       "        vertical-align: middle;\n",
       "    }\n",
       "\n",
       "    .dataframe tbody tr th {\n",
       "        vertical-align: top;\n",
       "    }\n",
       "\n",
       "    .dataframe thead th {\n",
       "        text-align: right;\n",
       "    }\n",
       "</style>\n",
       "<table border=\"1\" class=\"dataframe\">\n",
       "  <thead>\n",
       "    <tr style=\"text-align: right;\">\n",
       "      <th></th>\n",
       "      <th>count</th>\n",
       "    </tr>\n",
       "    <tr>\n",
       "      <th>ZIP</th>\n",
       "      <th></th>\n",
       "    </tr>\n",
       "  </thead>\n",
       "  <tbody>\n",
       "    <tr>\n",
       "      <th>85003.0</th>\n",
       "      <td>58.0</td>\n",
       "    </tr>\n",
       "    <tr>\n",
       "      <th>85004.0</th>\n",
       "      <td>45.5</td>\n",
       "    </tr>\n",
       "    <tr>\n",
       "      <th>85006.0</th>\n",
       "      <td>78.0</td>\n",
       "    </tr>\n",
       "    <tr>\n",
       "      <th>85007.0</th>\n",
       "      <td>118.0</td>\n",
       "    </tr>\n",
       "    <tr>\n",
       "      <th>85008.0</th>\n",
       "      <td>166.0</td>\n",
       "    </tr>\n",
       "    <tr>\n",
       "      <th>...</th>\n",
       "      <td>...</td>\n",
       "    </tr>\n",
       "    <tr>\n",
       "      <th>85382.0</th>\n",
       "      <td>1.0</td>\n",
       "    </tr>\n",
       "    <tr>\n",
       "      <th>85383.0</th>\n",
       "      <td>1.0</td>\n",
       "    </tr>\n",
       "    <tr>\n",
       "      <th>85392.0</th>\n",
       "      <td>1.5</td>\n",
       "    </tr>\n",
       "    <tr>\n",
       "      <th>85395.0</th>\n",
       "      <td>1.0</td>\n",
       "    </tr>\n",
       "    <tr>\n",
       "      <th>85396.0</th>\n",
       "      <td>1.0</td>\n",
       "    </tr>\n",
       "  </tbody>\n",
       "</table>\n",
       "<p>93 rows × 1 columns</p>\n",
       "</div>"
      ],
      "text/plain": [
       "         count\n",
       "ZIP           \n",
       "85003.0   58.0\n",
       "85004.0   45.5\n",
       "85006.0   78.0\n",
       "85007.0  118.0\n",
       "85008.0  166.0\n",
       "...        ...\n",
       "85382.0    1.0\n",
       "85383.0    1.0\n",
       "85392.0    1.5\n",
       "85395.0    1.0\n",
       "85396.0    1.0\n",
       "\n",
       "[93 rows x 1 columns]"
      ]
     },
     "execution_count": 92,
     "metadata": {},
     "output_type": "execute_result"
    }
   ],
   "source": [
    "#displaying the new dataframe\n",
    "total_crime"
   ]
  },
  {
   "cell_type": "markdown",
   "id": "9713e3e4-bc8b-499e-b3ce-e2a08982493a",
   "metadata": {},
   "source": [
    "Now that I have the median amount of crimes per zip code, I can move on to preparing the housing data where I am looking at each house price per zip code that was in the dataset. This will follow a similar logic to what I did above for the crime data."
   ]
  },
  {
   "cell_type": "code",
   "execution_count": 93,
   "id": "0f0505d4-bdb0-493f-921b-b4cd5e955e1e",
   "metadata": {},
   "outputs": [
    {
     "data": {
      "text/html": [
       "<div>\n",
       "<style scoped>\n",
       "    .dataframe tbody tr th:only-of-type {\n",
       "        vertical-align: middle;\n",
       "    }\n",
       "\n",
       "    .dataframe tbody tr th {\n",
       "        vertical-align: top;\n",
       "    }\n",
       "\n",
       "    .dataframe thead th {\n",
       "        text-align: right;\n",
       "    }\n",
       "</style>\n",
       "<table border=\"1\" class=\"dataframe\">\n",
       "  <thead>\n",
       "    <tr style=\"text-align: right;\">\n",
       "      <th></th>\n",
       "      <th>Price</th>\n",
       "      <th>address</th>\n",
       "      <th>Local_area</th>\n",
       "      <th>zipcode</th>\n",
       "      <th>beds</th>\n",
       "      <th>baths</th>\n",
       "      <th>sqft</th>\n",
       "      <th>url</th>\n",
       "    </tr>\n",
       "  </thead>\n",
       "  <tbody>\n",
       "    <tr>\n",
       "      <th>0</th>\n",
       "      <td>229900</td>\n",
       "      <td>11444 N 28th Dr APT 14</td>\n",
       "      <td>Phoenix</td>\n",
       "      <td>85029</td>\n",
       "      <td>2.0</td>\n",
       "      <td>3.0</td>\n",
       "      <td>1498.0</td>\n",
       "      <td>https://www.zillow.com/homedetails/11444-N-28t...</td>\n",
       "    </tr>\n",
       "    <tr>\n",
       "      <th>1</th>\n",
       "      <td>294900</td>\n",
       "      <td>107 W Camino Rancho Lucido</td>\n",
       "      <td>Sahuarita</td>\n",
       "      <td>85629</td>\n",
       "      <td>4.0</td>\n",
       "      <td>3.0</td>\n",
       "      <td>1951.0</td>\n",
       "      <td>https://www.zillow.com/homedetails/107-W-Camin...</td>\n",
       "    </tr>\n",
       "    <tr>\n",
       "      <th>2</th>\n",
       "      <td>683100</td>\n",
       "      <td>3320 E Briarwood Ter</td>\n",
       "      <td>Phoenix</td>\n",
       "      <td>85048</td>\n",
       "      <td>4.0</td>\n",
       "      <td>4.0</td>\n",
       "      <td>3110.0</td>\n",
       "      <td>https://www.zillow.com/homedetails/3320-E-Bria...</td>\n",
       "    </tr>\n",
       "    <tr>\n",
       "      <th>3</th>\n",
       "      <td>260000</td>\n",
       "      <td>2401 N 70th St APT H</td>\n",
       "      <td>Scottsdale</td>\n",
       "      <td>85257</td>\n",
       "      <td>2.0</td>\n",
       "      <td>1.0</td>\n",
       "      <td>759.0</td>\n",
       "      <td>https://www.zillow.com/homedetails/2401-N-70th...</td>\n",
       "    </tr>\n",
       "    <tr>\n",
       "      <th>4</th>\n",
       "      <td>290900</td>\n",
       "      <td>3781 E Sierrita Rd</td>\n",
       "      <td>San Tan Valley</td>\n",
       "      <td>85143</td>\n",
       "      <td>2.0</td>\n",
       "      <td>2.0</td>\n",
       "      <td>1052.0</td>\n",
       "      <td>https://www.zillow.com/homedetails/3781-E-Sier...</td>\n",
       "    </tr>\n",
       "    <tr>\n",
       "      <th>...</th>\n",
       "      <td>...</td>\n",
       "      <td>...</td>\n",
       "      <td>...</td>\n",
       "      <td>...</td>\n",
       "      <td>...</td>\n",
       "      <td>...</td>\n",
       "      <td>...</td>\n",
       "      <td>...</td>\n",
       "    </tr>\n",
       "    <tr>\n",
       "      <th>558</th>\n",
       "      <td>499000</td>\n",
       "      <td>7024 W TOWNLEY Avenue</td>\n",
       "      <td>Peoria</td>\n",
       "      <td>85345</td>\n",
       "      <td>4.0</td>\n",
       "      <td>3.0</td>\n",
       "      <td>2608.0</td>\n",
       "      <td>https://www.point2homes.com/US/Home-For-Sale/A...</td>\n",
       "    </tr>\n",
       "    <tr>\n",
       "      <th>559</th>\n",
       "      <td>345990</td>\n",
       "      <td>2036 E JULIAN Drive</td>\n",
       "      <td>Casa Grande</td>\n",
       "      <td>85122</td>\n",
       "      <td>4.0</td>\n",
       "      <td>2.0</td>\n",
       "      <td>1880.0</td>\n",
       "      <td>https://www.point2homes.com/US/Home-For-Sale/A...</td>\n",
       "    </tr>\n",
       "    <tr>\n",
       "      <th>560</th>\n",
       "      <td>355000</td>\n",
       "      <td>7636 E Buena Vista Drive</td>\n",
       "      <td>Prescott Valley</td>\n",
       "      <td>86314</td>\n",
       "      <td>3.0</td>\n",
       "      <td>2.0</td>\n",
       "      <td>1286.0</td>\n",
       "      <td>https://www.point2homes.com/US/Home-For-Sale/A...</td>\n",
       "    </tr>\n",
       "    <tr>\n",
       "      <th>561</th>\n",
       "      <td>700000</td>\n",
       "      <td>16610 South 37th Way</td>\n",
       "      <td>Phoenix</td>\n",
       "      <td>85048</td>\n",
       "      <td>5.0</td>\n",
       "      <td>3.0</td>\n",
       "      <td>3250.0</td>\n",
       "      <td>https://www.point2homes.com/US/Home-For-Sale/A...</td>\n",
       "    </tr>\n",
       "    <tr>\n",
       "      <th>562</th>\n",
       "      <td>105000</td>\n",
       "      <td>3825 N Santa Cruz Road</td>\n",
       "      <td>Golden Valley</td>\n",
       "      <td>86413</td>\n",
       "      <td>3.0</td>\n",
       "      <td>2.0</td>\n",
       "      <td>1050.0</td>\n",
       "      <td>https://www.point2homes.com/US/Home-For-Sale/A...</td>\n",
       "    </tr>\n",
       "  </tbody>\n",
       "</table>\n",
       "<p>563 rows × 8 columns</p>\n",
       "</div>"
      ],
      "text/plain": [
       "      Price                     address       Local_area zipcode  beds  baths  \\\n",
       "0    229900      11444 N 28th Dr APT 14          Phoenix   85029   2.0    3.0   \n",
       "1    294900  107 W Camino Rancho Lucido        Sahuarita   85629   4.0    3.0   \n",
       "2    683100        3320 E Briarwood Ter          Phoenix   85048   4.0    4.0   \n",
       "3    260000        2401 N 70th St APT H       Scottsdale   85257   2.0    1.0   \n",
       "4    290900          3781 E Sierrita Rd   San Tan Valley   85143   2.0    2.0   \n",
       "..      ...                         ...              ...     ...   ...    ...   \n",
       "558  499000       7024 W TOWNLEY Avenue           Peoria   85345   4.0    3.0   \n",
       "559  345990         2036 E JULIAN Drive      Casa Grande   85122   4.0    2.0   \n",
       "560  355000    7636 E Buena Vista Drive  Prescott Valley   86314   3.0    2.0   \n",
       "561  700000       16610 South 37th Way           Phoenix   85048   5.0    3.0   \n",
       "562  105000      3825 N Santa Cruz Road    Golden Valley   86413   3.0    2.0   \n",
       "\n",
       "       sqft                                                url  \n",
       "0    1498.0  https://www.zillow.com/homedetails/11444-N-28t...  \n",
       "1    1951.0  https://www.zillow.com/homedetails/107-W-Camin...  \n",
       "2    3110.0  https://www.zillow.com/homedetails/3320-E-Bria...  \n",
       "3     759.0  https://www.zillow.com/homedetails/2401-N-70th...  \n",
       "4    1052.0  https://www.zillow.com/homedetails/3781-E-Sier...  \n",
       "..      ...                                                ...  \n",
       "558  2608.0  https://www.point2homes.com/US/Home-For-Sale/A...  \n",
       "559  1880.0  https://www.point2homes.com/US/Home-For-Sale/A...  \n",
       "560  1286.0  https://www.point2homes.com/US/Home-For-Sale/A...  \n",
       "561  3250.0  https://www.point2homes.com/US/Home-For-Sale/A...  \n",
       "562  1050.0  https://www.point2homes.com/US/Home-For-Sale/A...  \n",
       "\n",
       "[563 rows x 8 columns]"
      ]
     },
     "execution_count": 93,
     "metadata": {},
     "output_type": "execute_result"
    }
   ],
   "source": [
    "#displaying the intial dataframe for reference\n",
    "house_prices_df"
   ]
  },
  {
   "cell_type": "code",
   "execution_count": 94,
   "id": "381e5ecd-5cc2-487e-82e8-2a7de5d7e537",
   "metadata": {},
   "outputs": [],
   "source": [
    "#Creating a groupby dataframe with the zipcode for further analysis with price\n",
    "home_zips = house_prices_df.groupby('zipcode')"
   ]
  },
  {
   "cell_type": "code",
   "execution_count": 95,
   "id": "03e74952-964e-4766-8e30-45d710b1ff32",
   "metadata": {},
   "outputs": [],
   "source": [
    "#Getting the median price for zip code and grouping them together\n",
    "total_price = home_zips['Price'].median()"
   ]
  },
  {
   "cell_type": "code",
   "execution_count": 96,
   "id": "8b4af39a-fe62-4e7b-8068-c1f35dfad8be",
   "metadata": {},
   "outputs": [
    {
     "data": {
      "text/plain": [
       "zipcode\n",
       "85006             299000.0\n",
       "85007            1087500.0\n",
       "85008             570000.0\n",
       "85012            1900000.0\n",
       "85014             599000.0\n",
       "                   ...    \n",
       "86409             162000.0\n",
       "86413             105000.0\n",
       "86426             264900.0\n",
       "86442             379900.0\n",
       "Apache County     397500.0\n",
       "Name: Price, Length: 204, dtype: float64"
      ]
     },
     "execution_count": 96,
     "metadata": {},
     "output_type": "execute_result"
    }
   ],
   "source": [
    "#displaying the new dataframe\n",
    "total_price"
   ]
  },
  {
   "cell_type": "markdown",
   "id": "0148be4f-60f1-49e5-aab6-5ba462ea3df0",
   "metadata": {},
   "source": [
    "With the median price per zip listed, I can now move on to comparing the data"
   ]
  },
  {
   "cell_type": "code",
   "execution_count": 97,
   "id": "4b76ef7f-d25f-44da-b614-af11a6eb08c8",
   "metadata": {},
   "outputs": [
    {
     "data": {
      "text/plain": [
       "pandas.core.series.Series"
      ]
     },
     "execution_count": 97,
     "metadata": {},
     "output_type": "execute_result"
    }
   ],
   "source": [
    "#views which type of dataframe total_price is, which will be important later on \n",
    "type(total_price)"
   ]
  },
  {
   "cell_type": "code",
   "execution_count": 98,
   "id": "9bdcd2bd-6709-464e-86f1-c7e99f79bd39",
   "metadata": {},
   "outputs": [
    {
     "data": {
      "text/plain": [
       "pandas.core.frame.DataFrame"
      ]
     },
     "execution_count": 98,
     "metadata": {},
     "output_type": "execute_result"
    }
   ],
   "source": [
    "#I do the same with the total_crime df\n",
    "type(total_crime)"
   ]
  },
  {
   "cell_type": "markdown",
   "id": "ee2416b0-4116-4d88-b7c0-d5d251888ca1",
   "metadata": {},
   "source": [
    "To compare the data, I will have to make sure both new datasets are of the same data type. "
   ]
  },
  {
   "cell_type": "code",
   "execution_count": 99,
   "id": "9a4841aa-b9a9-4e0e-889e-8e47759e2d42",
   "metadata": {},
   "outputs": [],
   "source": [
    "#converting total_price to a new dataframe\n",
    "total_price_df = pd.DataFrame(total_price)"
   ]
  },
  {
   "cell_type": "code",
   "execution_count": 100,
   "id": "c2364c43-7805-423e-8069-cab5dd9b2ff0",
   "metadata": {},
   "outputs": [
    {
     "data": {
      "text/html": [
       "<div>\n",
       "<style scoped>\n",
       "    .dataframe tbody tr th:only-of-type {\n",
       "        vertical-align: middle;\n",
       "    }\n",
       "\n",
       "    .dataframe tbody tr th {\n",
       "        vertical-align: top;\n",
       "    }\n",
       "\n",
       "    .dataframe thead th {\n",
       "        text-align: right;\n",
       "    }\n",
       "</style>\n",
       "<table border=\"1\" class=\"dataframe\">\n",
       "  <thead>\n",
       "    <tr style=\"text-align: right;\">\n",
       "      <th></th>\n",
       "      <th>Price</th>\n",
       "    </tr>\n",
       "    <tr>\n",
       "      <th>zipcode</th>\n",
       "      <th></th>\n",
       "    </tr>\n",
       "  </thead>\n",
       "  <tbody>\n",
       "    <tr>\n",
       "      <th>85006</th>\n",
       "      <td>299000.0</td>\n",
       "    </tr>\n",
       "    <tr>\n",
       "      <th>85007</th>\n",
       "      <td>1087500.0</td>\n",
       "    </tr>\n",
       "    <tr>\n",
       "      <th>85008</th>\n",
       "      <td>570000.0</td>\n",
       "    </tr>\n",
       "    <tr>\n",
       "      <th>85012</th>\n",
       "      <td>1900000.0</td>\n",
       "    </tr>\n",
       "    <tr>\n",
       "      <th>85014</th>\n",
       "      <td>599000.0</td>\n",
       "    </tr>\n",
       "    <tr>\n",
       "      <th>...</th>\n",
       "      <td>...</td>\n",
       "    </tr>\n",
       "    <tr>\n",
       "      <th>86409</th>\n",
       "      <td>162000.0</td>\n",
       "    </tr>\n",
       "    <tr>\n",
       "      <th>86413</th>\n",
       "      <td>105000.0</td>\n",
       "    </tr>\n",
       "    <tr>\n",
       "      <th>86426</th>\n",
       "      <td>264900.0</td>\n",
       "    </tr>\n",
       "    <tr>\n",
       "      <th>86442</th>\n",
       "      <td>379900.0</td>\n",
       "    </tr>\n",
       "    <tr>\n",
       "      <th>Apache County</th>\n",
       "      <td>397500.0</td>\n",
       "    </tr>\n",
       "  </tbody>\n",
       "</table>\n",
       "<p>204 rows × 1 columns</p>\n",
       "</div>"
      ],
      "text/plain": [
       "                   Price\n",
       "zipcode                 \n",
       "85006           299000.0\n",
       "85007          1087500.0\n",
       "85008           570000.0\n",
       "85012          1900000.0\n",
       "85014           599000.0\n",
       "...                  ...\n",
       "86409           162000.0\n",
       "86413           105000.0\n",
       "86426           264900.0\n",
       "86442           379900.0\n",
       "Apache County   397500.0\n",
       "\n",
       "[204 rows x 1 columns]"
      ]
     },
     "execution_count": 100,
     "metadata": {},
     "output_type": "execute_result"
    }
   ],
   "source": [
    "#displaying dataframe\n",
    "total_price_df"
   ]
  },
  {
   "cell_type": "code",
   "execution_count": 101,
   "id": "f8632e7f-e79e-42a6-8fe9-306873325cfc",
   "metadata": {},
   "outputs": [
    {
     "data": {
      "text/plain": [
       "pandas.core.frame.DataFrame"
      ]
     },
     "execution_count": 101,
     "metadata": {},
     "output_type": "execute_result"
    }
   ],
   "source": [
    "#displaying the type of the new dataframe\n",
    "type(total_price_df)"
   ]
  },
  {
   "cell_type": "markdown",
   "id": "9538654a-deea-475b-b556-c22f1fff4ec7",
   "metadata": {},
   "source": [
    "Both datasets are now the same datatype"
   ]
  },
  {
   "cell_type": "markdown",
   "id": "b20f58ea-361f-4c9a-8c0c-18981b4881cb",
   "metadata": {},
   "source": [
    "But now I must rename some columns in both dataframes so they can be matched up later when the dataframes are added together. "
   ]
  },
  {
   "cell_type": "markdown",
   "id": "d39ca318-a767-4578-b1f4-f3a67ab1ca0b",
   "metadata": {},
   "source": [
    "I used this article for help:"
   ]
  },
  {
   "cell_type": "markdown",
   "id": "94122568-b26d-4a36-b93b-b72763086a4d",
   "metadata": {},
   "source": [
    "https://www.geeksforgeeks.org/how-to-rename-columns-in-pandas-dataframe/#"
   ]
  },
  {
   "cell_type": "code",
   "execution_count": 102,
   "id": "560f3377-8914-4d9b-9682-d70b346d28f8",
   "metadata": {},
   "outputs": [],
   "source": [
    "#renaming the index to zipcode, for some reason python wasn't recognizing the first column name\n",
    "total_crime = total_crime.rename_axis('zipcode')"
   ]
  },
  {
   "cell_type": "code",
   "execution_count": 103,
   "id": "4f0348fe-e7d8-489b-95c0-07fde93fa1e2",
   "metadata": {},
   "outputs": [],
   "source": [
    "#renaming the crime count to MedianCrimeCount \n",
    "total_crime.rename(columns = {'count':'MedianCrimeCount'}, inplace=True)"
   ]
  },
  {
   "cell_type": "code",
   "execution_count": 104,
   "id": "0c0f3d79-8ad3-4208-a2b2-d96b0c35f34a",
   "metadata": {},
   "outputs": [
    {
     "data": {
      "text/html": [
       "<div>\n",
       "<style scoped>\n",
       "    .dataframe tbody tr th:only-of-type {\n",
       "        vertical-align: middle;\n",
       "    }\n",
       "\n",
       "    .dataframe tbody tr th {\n",
       "        vertical-align: top;\n",
       "    }\n",
       "\n",
       "    .dataframe thead th {\n",
       "        text-align: right;\n",
       "    }\n",
       "</style>\n",
       "<table border=\"1\" class=\"dataframe\">\n",
       "  <thead>\n",
       "    <tr style=\"text-align: right;\">\n",
       "      <th></th>\n",
       "      <th>MedianCrimeCount</th>\n",
       "    </tr>\n",
       "    <tr>\n",
       "      <th>zipcode</th>\n",
       "      <th></th>\n",
       "    </tr>\n",
       "  </thead>\n",
       "  <tbody>\n",
       "    <tr>\n",
       "      <th>85003.0</th>\n",
       "      <td>58.0</td>\n",
       "    </tr>\n",
       "    <tr>\n",
       "      <th>85004.0</th>\n",
       "      <td>45.5</td>\n",
       "    </tr>\n",
       "    <tr>\n",
       "      <th>85006.0</th>\n",
       "      <td>78.0</td>\n",
       "    </tr>\n",
       "    <tr>\n",
       "      <th>85007.0</th>\n",
       "      <td>118.0</td>\n",
       "    </tr>\n",
       "    <tr>\n",
       "      <th>85008.0</th>\n",
       "      <td>166.0</td>\n",
       "    </tr>\n",
       "    <tr>\n",
       "      <th>...</th>\n",
       "      <td>...</td>\n",
       "    </tr>\n",
       "    <tr>\n",
       "      <th>85382.0</th>\n",
       "      <td>1.0</td>\n",
       "    </tr>\n",
       "    <tr>\n",
       "      <th>85383.0</th>\n",
       "      <td>1.0</td>\n",
       "    </tr>\n",
       "    <tr>\n",
       "      <th>85392.0</th>\n",
       "      <td>1.5</td>\n",
       "    </tr>\n",
       "    <tr>\n",
       "      <th>85395.0</th>\n",
       "      <td>1.0</td>\n",
       "    </tr>\n",
       "    <tr>\n",
       "      <th>85396.0</th>\n",
       "      <td>1.0</td>\n",
       "    </tr>\n",
       "  </tbody>\n",
       "</table>\n",
       "<p>93 rows × 1 columns</p>\n",
       "</div>"
      ],
      "text/plain": [
       "         MedianCrimeCount\n",
       "zipcode                  \n",
       "85003.0              58.0\n",
       "85004.0              45.5\n",
       "85006.0              78.0\n",
       "85007.0             118.0\n",
       "85008.0             166.0\n",
       "...                   ...\n",
       "85382.0               1.0\n",
       "85383.0               1.0\n",
       "85392.0               1.5\n",
       "85395.0               1.0\n",
       "85396.0               1.0\n",
       "\n",
       "[93 rows x 1 columns]"
      ]
     },
     "execution_count": 104,
     "metadata": {},
     "output_type": "execute_result"
    }
   ],
   "source": [
    "#displaying the dataframe\n",
    "total_crime"
   ]
  },
  {
   "cell_type": "code",
   "execution_count": 105,
   "id": "21f94f36-7f26-4308-a1a2-7ac18c8119e7",
   "metadata": {},
   "outputs": [],
   "source": [
    "#Doing the same thing for the total_price_df that has our house price info\n",
    "total_price_df.rename(columns = {'Price':'HousePrice'}, inplace=True)"
   ]
  },
  {
   "cell_type": "code",
   "execution_count": 106,
   "id": "16d3a6c0-5773-4371-98f8-210a22459553",
   "metadata": {},
   "outputs": [],
   "source": [
    "#same as above\n",
    "total_price_df = total_price_df.rename_axis('zipcode')"
   ]
  },
  {
   "cell_type": "code",
   "execution_count": 107,
   "id": "6bf53822-910d-4437-aa3d-5aa83b048f7a",
   "metadata": {},
   "outputs": [
    {
     "data": {
      "text/html": [
       "<div>\n",
       "<style scoped>\n",
       "    .dataframe tbody tr th:only-of-type {\n",
       "        vertical-align: middle;\n",
       "    }\n",
       "\n",
       "    .dataframe tbody tr th {\n",
       "        vertical-align: top;\n",
       "    }\n",
       "\n",
       "    .dataframe thead th {\n",
       "        text-align: right;\n",
       "    }\n",
       "</style>\n",
       "<table border=\"1\" class=\"dataframe\">\n",
       "  <thead>\n",
       "    <tr style=\"text-align: right;\">\n",
       "      <th></th>\n",
       "      <th>HousePrice</th>\n",
       "    </tr>\n",
       "    <tr>\n",
       "      <th>zipcode</th>\n",
       "      <th></th>\n",
       "    </tr>\n",
       "  </thead>\n",
       "  <tbody>\n",
       "    <tr>\n",
       "      <th>85006</th>\n",
       "      <td>299000.0</td>\n",
       "    </tr>\n",
       "    <tr>\n",
       "      <th>85007</th>\n",
       "      <td>1087500.0</td>\n",
       "    </tr>\n",
       "    <tr>\n",
       "      <th>85008</th>\n",
       "      <td>570000.0</td>\n",
       "    </tr>\n",
       "    <tr>\n",
       "      <th>85012</th>\n",
       "      <td>1900000.0</td>\n",
       "    </tr>\n",
       "    <tr>\n",
       "      <th>85014</th>\n",
       "      <td>599000.0</td>\n",
       "    </tr>\n",
       "    <tr>\n",
       "      <th>...</th>\n",
       "      <td>...</td>\n",
       "    </tr>\n",
       "    <tr>\n",
       "      <th>86409</th>\n",
       "      <td>162000.0</td>\n",
       "    </tr>\n",
       "    <tr>\n",
       "      <th>86413</th>\n",
       "      <td>105000.0</td>\n",
       "    </tr>\n",
       "    <tr>\n",
       "      <th>86426</th>\n",
       "      <td>264900.0</td>\n",
       "    </tr>\n",
       "    <tr>\n",
       "      <th>86442</th>\n",
       "      <td>379900.0</td>\n",
       "    </tr>\n",
       "    <tr>\n",
       "      <th>Apache County</th>\n",
       "      <td>397500.0</td>\n",
       "    </tr>\n",
       "  </tbody>\n",
       "</table>\n",
       "<p>204 rows × 1 columns</p>\n",
       "</div>"
      ],
      "text/plain": [
       "               HousePrice\n",
       "zipcode                  \n",
       "85006            299000.0\n",
       "85007           1087500.0\n",
       "85008            570000.0\n",
       "85012           1900000.0\n",
       "85014            599000.0\n",
       "...                   ...\n",
       "86409            162000.0\n",
       "86413            105000.0\n",
       "86426            264900.0\n",
       "86442            379900.0\n",
       "Apache County    397500.0\n",
       "\n",
       "[204 rows x 1 columns]"
      ]
     },
     "execution_count": 107,
     "metadata": {},
     "output_type": "execute_result"
    }
   ],
   "source": [
    "#printing the newly name dataframe\n",
    "total_price_df"
   ]
  },
  {
   "cell_type": "code",
   "execution_count": 108,
   "id": "da3d4544-f64e-4a2a-b92a-83acf00fd61b",
   "metadata": {},
   "outputs": [],
   "source": [
    "#Drops the row with the zip of Apache County since it did not match the rest of the data\n",
    "total_price_df = total_price_df[total_price_df.index != 'Apache County']"
   ]
  },
  {
   "cell_type": "code",
   "execution_count": 109,
   "id": "1a5fcb52-6d1a-42a4-91d0-41015ce5bfa1",
   "metadata": {},
   "outputs": [
    {
     "data": {
      "text/html": [
       "<div>\n",
       "<style scoped>\n",
       "    .dataframe tbody tr th:only-of-type {\n",
       "        vertical-align: middle;\n",
       "    }\n",
       "\n",
       "    .dataframe tbody tr th {\n",
       "        vertical-align: top;\n",
       "    }\n",
       "\n",
       "    .dataframe thead th {\n",
       "        text-align: right;\n",
       "    }\n",
       "</style>\n",
       "<table border=\"1\" class=\"dataframe\">\n",
       "  <thead>\n",
       "    <tr style=\"text-align: right;\">\n",
       "      <th></th>\n",
       "      <th>HousePrice</th>\n",
       "    </tr>\n",
       "    <tr>\n",
       "      <th>zipcode</th>\n",
       "      <th></th>\n",
       "    </tr>\n",
       "  </thead>\n",
       "  <tbody>\n",
       "    <tr>\n",
       "      <th>85006</th>\n",
       "      <td>299000.0</td>\n",
       "    </tr>\n",
       "    <tr>\n",
       "      <th>85007</th>\n",
       "      <td>1087500.0</td>\n",
       "    </tr>\n",
       "    <tr>\n",
       "      <th>85008</th>\n",
       "      <td>570000.0</td>\n",
       "    </tr>\n",
       "    <tr>\n",
       "      <th>85012</th>\n",
       "      <td>1900000.0</td>\n",
       "    </tr>\n",
       "    <tr>\n",
       "      <th>85014</th>\n",
       "      <td>599000.0</td>\n",
       "    </tr>\n",
       "    <tr>\n",
       "      <th>...</th>\n",
       "      <td>...</td>\n",
       "    </tr>\n",
       "    <tr>\n",
       "      <th>86406</th>\n",
       "      <td>500000.0</td>\n",
       "    </tr>\n",
       "    <tr>\n",
       "      <th>86409</th>\n",
       "      <td>162000.0</td>\n",
       "    </tr>\n",
       "    <tr>\n",
       "      <th>86413</th>\n",
       "      <td>105000.0</td>\n",
       "    </tr>\n",
       "    <tr>\n",
       "      <th>86426</th>\n",
       "      <td>264900.0</td>\n",
       "    </tr>\n",
       "    <tr>\n",
       "      <th>86442</th>\n",
       "      <td>379900.0</td>\n",
       "    </tr>\n",
       "  </tbody>\n",
       "</table>\n",
       "<p>203 rows × 1 columns</p>\n",
       "</div>"
      ],
      "text/plain": [
       "         HousePrice\n",
       "zipcode            \n",
       "85006      299000.0\n",
       "85007     1087500.0\n",
       "85008      570000.0\n",
       "85012     1900000.0\n",
       "85014      599000.0\n",
       "...             ...\n",
       "86406      500000.0\n",
       "86409      162000.0\n",
       "86413      105000.0\n",
       "86426      264900.0\n",
       "86442      379900.0\n",
       "\n",
       "[203 rows x 1 columns]"
      ]
     },
     "execution_count": 109,
     "metadata": {},
     "output_type": "execute_result"
    }
   ],
   "source": [
    "#Prints the dataframe again to show its gone\n",
    "total_price_df"
   ]
  },
  {
   "cell_type": "code",
   "execution_count": 110,
   "id": "02739243-2412-4887-a26b-c5dd6765c174",
   "metadata": {},
   "outputs": [],
   "source": [
    "#Converts the total_price_df zipcodes to a float since the total_crime df zips are float and they need to be the same datatype to match when\n",
    "#joined together\n",
    "total_price_df.index = total_price_df.index.astype(float)"
   ]
  },
  {
   "cell_type": "code",
   "execution_count": 111,
   "id": "af12502c-70bf-4d2b-8c44-3e3528fb4d5e",
   "metadata": {},
   "outputs": [
    {
     "data": {
      "text/html": [
       "<div>\n",
       "<style scoped>\n",
       "    .dataframe tbody tr th:only-of-type {\n",
       "        vertical-align: middle;\n",
       "    }\n",
       "\n",
       "    .dataframe tbody tr th {\n",
       "        vertical-align: top;\n",
       "    }\n",
       "\n",
       "    .dataframe thead th {\n",
       "        text-align: right;\n",
       "    }\n",
       "</style>\n",
       "<table border=\"1\" class=\"dataframe\">\n",
       "  <thead>\n",
       "    <tr style=\"text-align: right;\">\n",
       "      <th></th>\n",
       "      <th>HousePrice</th>\n",
       "    </tr>\n",
       "    <tr>\n",
       "      <th>zipcode</th>\n",
       "      <th></th>\n",
       "    </tr>\n",
       "  </thead>\n",
       "  <tbody>\n",
       "    <tr>\n",
       "      <th>85006.0</th>\n",
       "      <td>299000.0</td>\n",
       "    </tr>\n",
       "    <tr>\n",
       "      <th>85007.0</th>\n",
       "      <td>1087500.0</td>\n",
       "    </tr>\n",
       "    <tr>\n",
       "      <th>85008.0</th>\n",
       "      <td>570000.0</td>\n",
       "    </tr>\n",
       "    <tr>\n",
       "      <th>85012.0</th>\n",
       "      <td>1900000.0</td>\n",
       "    </tr>\n",
       "    <tr>\n",
       "      <th>85014.0</th>\n",
       "      <td>599000.0</td>\n",
       "    </tr>\n",
       "    <tr>\n",
       "      <th>...</th>\n",
       "      <td>...</td>\n",
       "    </tr>\n",
       "    <tr>\n",
       "      <th>86406.0</th>\n",
       "      <td>500000.0</td>\n",
       "    </tr>\n",
       "    <tr>\n",
       "      <th>86409.0</th>\n",
       "      <td>162000.0</td>\n",
       "    </tr>\n",
       "    <tr>\n",
       "      <th>86413.0</th>\n",
       "      <td>105000.0</td>\n",
       "    </tr>\n",
       "    <tr>\n",
       "      <th>86426.0</th>\n",
       "      <td>264900.0</td>\n",
       "    </tr>\n",
       "    <tr>\n",
       "      <th>86442.0</th>\n",
       "      <td>379900.0</td>\n",
       "    </tr>\n",
       "  </tbody>\n",
       "</table>\n",
       "<p>203 rows × 1 columns</p>\n",
       "</div>"
      ],
      "text/plain": [
       "         HousePrice\n",
       "zipcode            \n",
       "85006.0    299000.0\n",
       "85007.0   1087500.0\n",
       "85008.0    570000.0\n",
       "85012.0   1900000.0\n",
       "85014.0    599000.0\n",
       "...             ...\n",
       "86406.0    500000.0\n",
       "86409.0    162000.0\n",
       "86413.0    105000.0\n",
       "86426.0    264900.0\n",
       "86442.0    379900.0\n",
       "\n",
       "[203 rows x 1 columns]"
      ]
     },
     "execution_count": 111,
     "metadata": {},
     "output_type": "execute_result"
    }
   ],
   "source": [
    "#shows the dataframe\n",
    "total_price_df"
   ]
  },
  {
   "cell_type": "markdown",
   "id": "dc9cd822-99de-4a25-8864-544ac96b984d",
   "metadata": {},
   "source": [
    "Now I can combine the dataframes. I used this resource for help:\n",
    "\n",
    "https://pandas.pydata.org/pandas-docs/stable/user_guide/merging.html"
   ]
  },
  {
   "cell_type": "code",
   "execution_count": 112,
   "id": "b6ce1ed6-ae89-4a67-809a-20e011330664",
   "metadata": {},
   "outputs": [],
   "source": [
    "#merges both dataframes to a new dataframe called house_crime on the zipcode column\n",
    "#only the zips that had data were matched, we can see we lost rows of data between the dataframes\n",
    "house_crime = pd.merge(total_crime, total_price_df, on='zipcode', how='inner')"
   ]
  },
  {
   "cell_type": "code",
   "execution_count": 113,
   "id": "a3d72178-ed6f-46c3-a7b0-c50e2db681a2",
   "metadata": {},
   "outputs": [
    {
     "data": {
      "text/html": [
       "<div>\n",
       "<style scoped>\n",
       "    .dataframe tbody tr th:only-of-type {\n",
       "        vertical-align: middle;\n",
       "    }\n",
       "\n",
       "    .dataframe tbody tr th {\n",
       "        vertical-align: top;\n",
       "    }\n",
       "\n",
       "    .dataframe thead th {\n",
       "        text-align: right;\n",
       "    }\n",
       "</style>\n",
       "<table border=\"1\" class=\"dataframe\">\n",
       "  <thead>\n",
       "    <tr style=\"text-align: right;\">\n",
       "      <th></th>\n",
       "      <th>MedianCrimeCount</th>\n",
       "      <th>HousePrice</th>\n",
       "    </tr>\n",
       "    <tr>\n",
       "      <th>zipcode</th>\n",
       "      <th></th>\n",
       "      <th></th>\n",
       "    </tr>\n",
       "  </thead>\n",
       "  <tbody>\n",
       "    <tr>\n",
       "      <th>85006.0</th>\n",
       "      <td>78.0</td>\n",
       "      <td>299000.0</td>\n",
       "    </tr>\n",
       "    <tr>\n",
       "      <th>85007.0</th>\n",
       "      <td>118.0</td>\n",
       "      <td>1087500.0</td>\n",
       "    </tr>\n",
       "    <tr>\n",
       "      <th>85008.0</th>\n",
       "      <td>166.0</td>\n",
       "      <td>570000.0</td>\n",
       "    </tr>\n",
       "    <tr>\n",
       "      <th>85012.0</th>\n",
       "      <td>18.5</td>\n",
       "      <td>1900000.0</td>\n",
       "    </tr>\n",
       "    <tr>\n",
       "      <th>85014.0</th>\n",
       "      <td>50.0</td>\n",
       "      <td>599000.0</td>\n",
       "    </tr>\n",
       "    <tr>\n",
       "      <th>...</th>\n",
       "      <td>...</td>\n",
       "      <td>...</td>\n",
       "    </tr>\n",
       "    <tr>\n",
       "      <th>85382.0</th>\n",
       "      <td>1.0</td>\n",
       "      <td>675000.0</td>\n",
       "    </tr>\n",
       "    <tr>\n",
       "      <th>85383.0</th>\n",
       "      <td>1.0</td>\n",
       "      <td>539100.0</td>\n",
       "    </tr>\n",
       "    <tr>\n",
       "      <th>85392.0</th>\n",
       "      <td>1.5</td>\n",
       "      <td>368450.0</td>\n",
       "    </tr>\n",
       "    <tr>\n",
       "      <th>85395.0</th>\n",
       "      <td>1.0</td>\n",
       "      <td>565000.0</td>\n",
       "    </tr>\n",
       "    <tr>\n",
       "      <th>85396.0</th>\n",
       "      <td>1.0</td>\n",
       "      <td>404900.0</td>\n",
       "    </tr>\n",
       "  </tbody>\n",
       "</table>\n",
       "<p>77 rows × 2 columns</p>\n",
       "</div>"
      ],
      "text/plain": [
       "         MedianCrimeCount  HousePrice\n",
       "zipcode                              \n",
       "85006.0              78.0    299000.0\n",
       "85007.0             118.0   1087500.0\n",
       "85008.0             166.0    570000.0\n",
       "85012.0              18.5   1900000.0\n",
       "85014.0              50.0    599000.0\n",
       "...                   ...         ...\n",
       "85382.0               1.0    675000.0\n",
       "85383.0               1.0    539100.0\n",
       "85392.0               1.5    368450.0\n",
       "85395.0               1.0    565000.0\n",
       "85396.0               1.0    404900.0\n",
       "\n",
       "[77 rows x 2 columns]"
      ]
     },
     "execution_count": 113,
     "metadata": {},
     "output_type": "execute_result"
    }
   ],
   "source": [
    "#prints the new dataframe which we will use for data analysis\n",
    "house_crime"
   ]
  },
  {
   "cell_type": "markdown",
   "id": "cfe4d5b9-83d7-49a7-bc3c-25a6e45420e6",
   "metadata": {},
   "source": [
    "Now I can use the cleaned data in the new dataframe for data analysis and visualization"
   ]
  },
  {
   "cell_type": "code",
   "execution_count": 114,
   "id": "84502b37-865d-484e-8e9f-a6debebbad9b",
   "metadata": {},
   "outputs": [],
   "source": [
    "#I installed seaborn becuase matplotlib was too restrictive for what I wanted to do\n",
    "#pip install seaborn"
   ]
  },
  {
   "cell_type": "code",
   "execution_count": 115,
   "id": "99b00e83-37cd-4770-a2fc-67855033771b",
   "metadata": {},
   "outputs": [],
   "source": [
    "#importing seaborn to graph the data\n",
    "import seaborn as sns"
   ]
  },
  {
   "cell_type": "code",
   "execution_count": 116,
   "id": "443d124d-9f78-4a7b-b0b2-669553e2a5b2",
   "metadata": {},
   "outputs": [
    {
     "name": "stderr",
     "output_type": "stream",
     "text": [
      "/tmp/ipykernel_3190/1056100363.py:18: UserWarning: set_ticklabels() should only be used with a fixed number of ticks, i.e. after set_ticks() or using a FixedLocator.\n",
      "  house_price_chart.set_xticklabels(house_price_chart.get_xticklabels(), rotation=90)\n"
     ]
    },
    {
     "data": {
      "image/png": "[encoded data removed]",
      "text/plain": [
       "<Figure size 2000x1000 with 1 Axes>"
      ]
     },
     "metadata": {},
     "output_type": "display_data"
    }
   ],
   "source": [
    "#from matplotlib.ticker import ScalarFormatter so I can scale the Y axis\n",
    "from matplotlib.ticker import FuncFormatter\n",
    "#determines graph size\n",
    "plt.figure(figsize=(20, 10))\n",
    "#decides what dataset to use and which axises the data should go on. Also sets the color\n",
    "house_price_chart = sns.barplot(x='zipcode', y='HousePrice', data=house_crime, color='blue')\n",
    "#makes label names for the graph\n",
    "house_price_chart.set(title='House Prices per Zipcode', xlabel='Zipcode', ylabel='House Price')\n",
    "\n",
    "#formats y-axis labels to display in thousands\n",
    "def price_formatter(x, pos):\n",
    "    return f'{x/1000:.0f}K'\n",
    "\n",
    "#takes the function and runs it through so the graph displays the numbers in thousands instead of scientific notation\n",
    "house_price_chart.yaxis.set_major_formatter(FuncFormatter(price_formatter))\n",
    "\n",
    "#Rotates the labels of the zipcode to vertical to make the graph more legible\n",
    "house_price_chart.set_xticklabels(house_price_chart.get_xticklabels(), rotation=90)\n",
    "\n",
    "#displays the graph\n",
    "plt.show()"
   ]
  },
  {
   "cell_type": "code",
   "execution_count": 117,
   "id": "82525513-6d70-47e1-b0ab-b4abcc345b9b",
   "metadata": {},
   "outputs": [
    {
     "name": "stderr",
     "output_type": "stream",
     "text": [
      "/tmp/ipykernel_3190/2949955477.py:6: UserWarning: set_ticklabels() should only be used with a fixed number of ticks, i.e. after set_ticks() or using a FixedLocator.\n",
      "  crime_count_chart.set_xticklabels(crime_count_chart.get_xticklabels(), rotation=90)\n"
     ]
    },
    {
     "data": {
      "image/png": "[encoded data removed]",
      "text/plain": [
       "<Figure size 2000x1000 with 1 Axes>"
      ]
     },
     "metadata": {},
     "output_type": "display_data"
    }
   ],
   "source": [
    "#creates a bar chart for crime count per zipcode with vertical labels\n",
    "#i am not going to comment as much for the next graphs out of redunancy\n",
    "plt.figure(figsize=(20, 10))\n",
    "crime_count_chart = sns.barplot(x='zipcode', y='MedianCrimeCount', data=house_crime, color='red')\n",
    "crime_count_chart.set(title='Crime Count per Zipcode', xlabel='Zipcode', ylabel='Crime Count')\n",
    "crime_count_chart.set_xticklabels(crime_count_chart.get_xticklabels(), rotation=90) \n",
    "plt.show()"
   ]
  },
  {
   "cell_type": "code",
   "execution_count": 118,
   "id": "30d25507-bee5-4410-b333-d8ae7844aaa1",
   "metadata": {},
   "outputs": [
    {
     "name": "stderr",
     "output_type": "stream",
     "text": [
      "/tmp/ipykernel_3190/2535952637.py:11: UserWarning: set_ticklabels() should only be used with a fixed number of ticks, i.e. after set_ticks() or using a FixedLocator.\n",
      "  house_price_scatter.set_xticklabels(house_price_scatter.get_xticklabels(), rotation=90)\n"
     ]
    },
    {
     "data": {
      "image/png": "[encoded data removed]",
      "text/plain": [
       "<Figure size 2000x1000 with 1 Axes>"
      ]
     },
     "metadata": {},
     "output_type": "display_data"
    }
   ],
   "source": [
    "#Scatter plot for housing prices\n",
    "plt.figure(figsize=(20, 10))\n",
    "house_price_scatter = sns.scatterplot(x='zipcode', y='HousePrice', data=house_crime, color='blue', s=100)\n",
    "house_price_scatter.set(title='House Prices per Zipcode', xlabel='Zipcode', ylabel='House Price (in $)')\n",
    "\n",
    "def price_formatter(x, pos):\n",
    "    return f'{x/1000:.0f}K'\n",
    "\n",
    "house_price_scatter.yaxis.set_major_formatter(FuncFormatter(price_formatter))\n",
    "\n",
    "house_price_scatter.set_xticklabels(house_price_scatter.get_xticklabels(), rotation=90)\n",
    "\n",
    "plt.show()"
   ]
  },
  {
   "cell_type": "code",
   "execution_count": 119,
   "id": "6e4f2982-66c2-4834-b942-be59e2eca3a5",
   "metadata": {},
   "outputs": [
    {
     "name": "stderr",
     "output_type": "stream",
     "text": [
      "/tmp/ipykernel_3190/1052222531.py:6: UserWarning: set_ticklabels() should only be used with a fixed number of ticks, i.e. after set_ticks() or using a FixedLocator.\n",
      "  crime_count_scatter.set_xticklabels(crime_count_scatter.get_xticklabels(), rotation=90)\n"
     ]
    },
    {
     "data": {
      "image/png": "[encoded data removed]",
      "text/plain": [
       "<Figure size 1000x600 with 1 Axes>"
      ]
     },
     "metadata": {},
     "output_type": "display_data"
    }
   ],
   "source": [
    "#scatter plot for crime count per zipcode\n",
    "plt.figure(figsize=(10, 6))\n",
    "crime_count_scatter = sns.scatterplot(x='zipcode', y='MedianCrimeCount', data=house_crime, color='red', s=100)\n",
    "crime_count_scatter.set(title='Crime Count per Zipcode', xlabel='Zipcode', ylabel='Crime Count')\n",
    "\n",
    "crime_count_scatter.set_xticklabels(crime_count_scatter.get_xticklabels(), rotation=90)\n",
    "\n",
    "plt.show()"
   ]
  },
  {
   "cell_type": "code",
   "execution_count": 120,
   "id": "8de37998-9bcb-4c99-a405-b4e84b1f0881",
   "metadata": {},
   "outputs": [],
   "source": [
    "#prints the cleaned dataset I used to CSV\n",
    "house_crime.to_csv('EssentialsDataset.csv')"
   ]
  },
  {
   "cell_type": "markdown",
   "id": "ae949c30-ef88-46a0-bac6-d36fc5313216",
   "metadata": {},
   "source": [
    "Data Analysis \n",
    "\n",
    "Looking at both the bar charts and scatter plots, it is evident in this dataset that there is not a correlation between housing prices and crime count per zipcode. I would have expected completely different results, this may be from my own bias or the bias of the housing dataset. The housing data set only took around 1 house per zip I believe from the site Zillow and I used that price for the zip. So I actually used biased data because that one house could have been cherry picked and not representative of the median housing price per zipcode. \n",
    "\n",
    "I don't consider this project from a failure from a programming point of view, but from a data point of view I think this would need to go back to the drawing boards to get the median housing prices per zipcode. And Zillow is probably not the best way to collect that data either. If we come back to this project, I would like to expand on my failures to see if I get different results. "
   ]
  }
 ],
 "metadata": {
  "kernelspec": {
   "display_name": "Python 3 (ipykernel)",
   "language": "python",
   "name": "python3"
  },
  "language_info": {
   "codemirror_mode": {
    "name": "ipython",
    "version": 3
   },
   "file_extension": ".py",
   "mimetype": "text/x-python",
   "name": "python",
   "nbconvert_exporter": "python",
   "pygments_lexer": "ipython3",
   "version": "3.10.12"
  }
 },
 "nbformat": 4,
 "nbformat_minor": 5
}
